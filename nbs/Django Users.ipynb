{
 "cells": [
  {
   "cell_type": "code",
   "execution_count": 1,
   "id": "3266fcb9",
   "metadata": {},
   "outputs": [],
   "source": [
    "from django_for_jupyter import init_django\n",
    "\n",
    "init_django(\"dj_jupyter\")"
   ]
  },
  {
   "cell_type": "code",
   "execution_count": 2,
   "id": "4ec51beb",
   "metadata": {},
   "outputs": [],
   "source": [
    "from django.contrib.auth import get_user_model"
   ]
  },
  {
   "cell_type": "code",
   "execution_count": 3,
   "id": "fa4ebfb6",
   "metadata": {},
   "outputs": [],
   "source": [
    "User = get_user_model()"
   ]
  },
  {
   "cell_type": "raw",
   "id": "f5c46a8f",
   "metadata": {},
   "source": []
  },
  {
   "cell_type": "code",
   "execution_count": 4,
   "id": "4e0cea30",
   "metadata": {},
   "outputs": [],
   "source": [
    "User.objects.filter(username__iexact='cfe')"
   ]
  },
  {
   "cell_type": "code",
   "execution_count": 13,
   "id": "0be2c0b2",
   "metadata": {},
   "outputs": [],
   "source": [
    "User.objects.create_user(\"cfe4\", \"abc@dont.com\", \"asdfasdf13#@()#()\")"
   ]
  },
  {
   "cell_type": "code",
   "execution_count": 9,
   "id": "552a4e5d",
   "metadata": {},
   "outputs": [],
   "source": [
    "User.objects.all()"
   ]
  },
  {
   "cell_type": "code",
   "execution_count": null,
   "id": "3882804c",
   "metadata": {},
   "outputs": [],
   "source": []
  }
 ],
 "metadata": {
  "kernelspec": {
   "display_name": "Python 3 (ipykernel)",
   "language": "python",
   "name": "python3"
  },
  "language_info": {
   "codemirror_mode": {
    "name": "ipython",
    "version": 3
   },
   "file_extension": ".py",
   "mimetype": "text/x-python",
   "name": "python",
   "nbconvert_exporter": "python",
   "pygments_lexer": "ipython3",
   "version": "3.9.13"
  }
 },
 "nbformat": 4,
 "nbformat_minor": 5
}
