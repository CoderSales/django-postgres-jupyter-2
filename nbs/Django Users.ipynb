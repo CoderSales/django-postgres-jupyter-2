{
 "cells": [
  {
   "cell_type": "code",
   "execution_count": 5,
   "id": "3266fcb9",
   "metadata": {},
   "outputs": [],
   "source": [
    "from django_for_jupyter import init_django\n",
    "\n",
    "init_django(\"dj_jupyter\")"
   ]
  },
  {
   "cell_type": "code",
   "execution_count": 6,
   "id": "4ec51beb",
   "metadata": {},
   "outputs": [],
   "source": [
    "from django.contrib.auth import get_user_model"
   ]
  },
  {
   "cell_type": "code",
   "execution_count": 7,
   "id": "fa4ebfb6",
   "metadata": {},
   "outputs": [],
   "source": [
    "User = get_user_model()"
   ]
  },
  {
   "cell_type": "raw",
   "id": "f5c46a8f",
   "metadata": {},
   "source": []
  },
  {
   "cell_type": "code",
   "execution_count": 13,
   "id": "4e0cea30",
   "metadata": {},
   "outputs": [
    {
     "data": {
      "text/plain": [
       "<QuerySet []>"
      ]
     },
     "execution_count": 13,
     "metadata": {},
     "output_type": "execute_result"
    }
   ],
   "source": [
    "User.objects.filter(username__iexact='cfe')"
   ]
  },
  {
   "cell_type": "code",
   "execution_count": 14,
   "id": "0be2c0b2",
   "metadata": {},
   "outputs": [
    {
     "data": {
      "text/plain": [
       "<User: cfe2>"
      ]
     },
     "execution_count": 14,
     "metadata": {},
     "output_type": "execute_result"
    }
   ],
   "source": [
    "User.objects.create_user(\"cfe2\", \"abc@dont.com\", \"asdfasdf13#@()#()\")"
   ]
  },
  {
   "cell_type": "code",
   "execution_count": 15,
   "id": "552a4e5d",
   "metadata": {},
   "outputs": [
    {
     "data": {
      "text/plain": [
       "<QuerySet [<User: cfe2>]>"
      ]
     },
     "execution_count": 15,
     "metadata": {},
     "output_type": "execute_result"
    }
   ],
   "source": [
    "User.objects.all()"
   ]
  }
 ],
 "metadata": {
  "kernelspec": {
   "display_name": "Python 3 (ipykernel)",
   "language": "python",
   "name": "python3"
  },
  "language_info": {
   "codemirror_mode": {
    "name": "ipython",
    "version": 3
   },
   "file_extension": ".py",
   "mimetype": "text/x-python",
   "name": "python",
   "nbconvert_exporter": "python",
   "pygments_lexer": "ipython3",
   "version": "3.9.13"
  }
 },
 "nbformat": 4,
 "nbformat_minor": 5
}
