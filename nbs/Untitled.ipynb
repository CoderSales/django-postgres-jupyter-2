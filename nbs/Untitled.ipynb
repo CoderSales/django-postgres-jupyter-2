{
 "cells": [
  {
   "cell_type": "code",
   "execution_count": 20,
   "id": "58cd3c54",
   "metadata": {},
   "outputs": [],
   "source": [
    "from django_for_jupyter import init_django\n",
    "\n",
    "init_django(\"dj_jupyter\")"
   ]
  },
  {
   "cell_type": "code",
   "execution_count": 21,
   "id": "0e4a8742",
   "metadata": {},
   "outputs": [],
   "source": [
    "from django.contrib.auth import get_user_model"
   ]
  },
  {
   "cell_type": "code",
   "execution_count": 22,
   "id": "597a1870",
   "metadata": {},
   "outputs": [],
   "source": [
    "User = get_user_model()"
   ]
  },
  {
   "cell_type": "code",
   "execution_count": 23,
   "id": "c2ce0c7b",
   "metadata": {},
   "outputs": [
    {
     "data": {
      "text/plain": [
       "<QuerySet []>"
      ]
     },
     "execution_count": 23,
     "metadata": {},
     "output_type": "execute_result"
    }
   ],
   "source": [
    "User.objects.filter(username__iexact='cfe')"
   ]
  },
  {
   "cell_type": "code",
   "execution_count": 25,
   "id": "1875c089",
   "metadata": {},
   "outputs": [
    {
     "data": {
      "text/plain": [
       "<User: cfe7>"
      ]
     },
     "execution_count": 25,
     "metadata": {},
     "output_type": "execute_result"
    }
   ],
   "source": [
    "User.objects.create_user(\"cfe7\", \"abc@dont.com\", \"asdfasdf13#@()#()\")"
   ]
  },
  {
   "cell_type": "code",
   "execution_count": 26,
   "id": "29c35c35",
   "metadata": {},
   "outputs": [
    {
     "data": {
      "text/plain": [
       "<QuerySet [<User: admin>, <User: cfe2>, <User: cfe3>, <User: cfe4>, <User: cfe5>, <User: cfe6>, <User: cfe7>]>"
      ]
     },
     "execution_count": 26,
     "metadata": {},
     "output_type": "execute_result"
    }
   ],
   "source": [
    "User.objects.all()"
   ]
  },
  {
   "cell_type": "code",
   "execution_count": 27,
   "id": "baa6263d",
   "metadata": {},
   "outputs": [],
   "source": [
    "from django.db import models"
   ]
  },
  {
   "cell_type": "code",
   "execution_count": 40,
   "id": "345ca22f",
   "metadata": {},
   "outputs": [],
   "source": [
    "from app.models import Student"
   ]
  },
  {
   "cell_type": "code",
   "execution_count": 41,
   "id": "079a20d6",
   "metadata": {},
   "outputs": [
    {
     "data": {
      "text/plain": [
       "<QuerySet [<Student: Rohit>, <Student: Rony>, <Student: Debu>, <Student: Rony2>, <Student: Debu2>]>"
      ]
     },
     "execution_count": 41,
     "metadata": {},
     "output_type": "execute_result"
    }
   ],
   "source": [
    "Student.objects.all()"
   ]
  }
 ],
 "metadata": {
  "kernelspec": {
   "display_name": "Python 3 (ipykernel)",
   "language": "python",
   "name": "python3"
  },
  "language_info": {
   "codemirror_mode": {
    "name": "ipython",
    "version": 3
   },
   "file_extension": ".py",
   "mimetype": "text/x-python",
   "name": "python",
   "nbconvert_exporter": "python",
   "pygments_lexer": "ipython3",
   "version": "3.9.13"
  }
 },
 "nbformat": 4,
 "nbformat_minor": 5
}
